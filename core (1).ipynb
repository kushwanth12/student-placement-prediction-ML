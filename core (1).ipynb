{
 "cells": [
  {
   "cell_type": "code",
   "execution_count": 1,
   "metadata": {
    "pycharm": {
     "name": "#%%\n"
    }
   },
   "outputs": [
    {
     "data": {
      "text/html": [
       "<div>\n",
       "<style scoped>\n",
       "    .dataframe tbody tr th:only-of-type {\n",
       "        vertical-align: middle;\n",
       "    }\n",
       "\n",
       "    .dataframe tbody tr th {\n",
       "        vertical-align: top;\n",
       "    }\n",
       "\n",
       "    .dataframe thead th {\n",
       "        text-align: right;\n",
       "    }\n",
       "</style>\n",
       "<table border=\"1\" class=\"dataframe\">\n",
       "  <thead>\n",
       "    <tr style=\"text-align: right;\">\n",
       "      <th></th>\n",
       "      <th>10th</th>\n",
       "      <th>12th</th>\n",
       "      <th>Academic_Projects</th>\n",
       "      <th>Communication_Skills</th>\n",
       "      <th>Android_Development</th>\n",
       "      <th>Competitive_Coding</th>\n",
       "      <th>Graduation_GPA</th>\n",
       "      <th>Internship</th>\n",
       "      <th>Web_Development</th>\n",
       "      <th>Machine_Learning</th>\n",
       "      <th>xResult</th>\n",
       "    </tr>\n",
       "  </thead>\n",
       "  <tbody>\n",
       "    <tr>\n",
       "      <th>2061</th>\n",
       "      <td>7</td>\n",
       "      <td>6</td>\n",
       "      <td>2</td>\n",
       "      <td>0</td>\n",
       "      <td>0</td>\n",
       "      <td>1</td>\n",
       "      <td>5</td>\n",
       "      <td>1</td>\n",
       "      <td>0</td>\n",
       "      <td>0</td>\n",
       "      <td>1.0</td>\n",
       "    </tr>\n",
       "    <tr>\n",
       "      <th>2062</th>\n",
       "      <td>5</td>\n",
       "      <td>5</td>\n",
       "      <td>1</td>\n",
       "      <td>3</td>\n",
       "      <td>0</td>\n",
       "      <td>0</td>\n",
       "      <td>5</td>\n",
       "      <td>0</td>\n",
       "      <td>0</td>\n",
       "      <td>0</td>\n",
       "      <td>0.0</td>\n",
       "    </tr>\n",
       "    <tr>\n",
       "      <th>2063</th>\n",
       "      <td>7</td>\n",
       "      <td>5</td>\n",
       "      <td>0</td>\n",
       "      <td>2</td>\n",
       "      <td>0</td>\n",
       "      <td>0</td>\n",
       "      <td>5</td>\n",
       "      <td>0</td>\n",
       "      <td>0</td>\n",
       "      <td>0</td>\n",
       "      <td>0.0</td>\n",
       "    </tr>\n",
       "    <tr>\n",
       "      <th>2064</th>\n",
       "      <td>12</td>\n",
       "      <td>12</td>\n",
       "      <td>14</td>\n",
       "      <td>15</td>\n",
       "      <td>3</td>\n",
       "      <td>5</td>\n",
       "      <td>17</td>\n",
       "      <td>5</td>\n",
       "      <td>8</td>\n",
       "      <td>9</td>\n",
       "      <td>5.0</td>\n",
       "    </tr>\n",
       "    <tr>\n",
       "      <th>2065</th>\n",
       "      <td>23</td>\n",
       "      <td>48</td>\n",
       "      <td>61</td>\n",
       "      <td>-9</td>\n",
       "      <td>-8</td>\n",
       "      <td>23</td>\n",
       "      <td>45</td>\n",
       "      <td>-98</td>\n",
       "      <td>122</td>\n",
       "      <td>45</td>\n",
       "      <td>-4.0</td>\n",
       "    </tr>\n",
       "  </tbody>\n",
       "</table>\n",
       "</div>"
      ],
      "text/plain": [
       "      10th  12th  Academic_Projects  Communication_Skills  \\\n",
       "2061     7     6                  2                     0   \n",
       "2062     5     5                  1                     3   \n",
       "2063     7     5                  0                     2   \n",
       "2064    12    12                 14                    15   \n",
       "2065    23    48                 61                    -9   \n",
       "\n",
       "      Android_Development  Competitive_Coding  Graduation_GPA  Internship  \\\n",
       "2061                    0                   1               5           1   \n",
       "2062                    0                   0               5           0   \n",
       "2063                    0                   0               5           0   \n",
       "2064                    3                   5              17           5   \n",
       "2065                   -8                  23              45         -98   \n",
       "\n",
       "      Web_Development  Machine_Learning  xResult  \n",
       "2061                0                 0      1.0  \n",
       "2062                0                 0      0.0  \n",
       "2063                0                 0      0.0  \n",
       "2064                8                 9      5.0  \n",
       "2065              122                45     -4.0  "
      ]
     },
     "execution_count": 1,
     "metadata": {},
     "output_type": "execute_result"
    }
   ],
   "source": [
    "## importing packages and loading the dataset\n",
    "import requests\n",
    "import pandas as pd\n",
    "import numpy as np\n",
    "import matplotlib.pyplot as plt\n",
    "%matplotlib inline  \n",
    "data=pd.read_csv('demo38.csv')\n",
    "data.tail()"
   ]
  },
  {
   "cell_type": "code",
   "execution_count": 2,
   "metadata": {},
   "outputs": [
    {
     "data": {
      "text/plain": [
       "Index(['10th', '12th', 'Academic_Projects', 'Communication_Skills',\n",
       "       'Android_Development', 'Competitive_Coding', 'Graduation_GPA',\n",
       "       'Internship', 'Web_Development', 'Machine_Learning', 'xResult'],\n",
       "      dtype='object')"
      ]
     },
     "execution_count": 2,
     "metadata": {},
     "output_type": "execute_result"
    }
   ],
   "source": [
    "data.columns"
   ]
  },
  {
   "cell_type": "code",
   "execution_count": 3,
   "metadata": {},
   "outputs": [
    {
     "data": {
      "text/html": [
       "<div>\n",
       "<style scoped>\n",
       "    .dataframe tbody tr th:only-of-type {\n",
       "        vertical-align: middle;\n",
       "    }\n",
       "\n",
       "    .dataframe tbody tr th {\n",
       "        vertical-align: top;\n",
       "    }\n",
       "\n",
       "    .dataframe thead th {\n",
       "        text-align: right;\n",
       "    }\n",
       "</style>\n",
       "<table border=\"1\" class=\"dataframe\">\n",
       "  <thead>\n",
       "    <tr style=\"text-align: right;\">\n",
       "      <th></th>\n",
       "      <th>10th</th>\n",
       "      <th>12th</th>\n",
       "      <th>Academic_Projects</th>\n",
       "      <th>Communication_Skills</th>\n",
       "      <th>Android_Development</th>\n",
       "      <th>Competitive_Coding</th>\n",
       "      <th>Graduation_GPA</th>\n",
       "      <th>Internship</th>\n",
       "      <th>Web_Development</th>\n",
       "      <th>Machine_Learning</th>\n",
       "      <th>xResult</th>\n",
       "    </tr>\n",
       "  </thead>\n",
       "  <tbody>\n",
       "    <tr>\n",
       "      <th>0</th>\n",
       "      <td>9</td>\n",
       "      <td>10</td>\n",
       "      <td>10</td>\n",
       "      <td>6</td>\n",
       "      <td>1</td>\n",
       "      <td>1</td>\n",
       "      <td>6</td>\n",
       "      <td>1</td>\n",
       "      <td>1</td>\n",
       "      <td>1</td>\n",
       "      <td>1.0</td>\n",
       "    </tr>\n",
       "    <tr>\n",
       "      <th>1</th>\n",
       "      <td>8</td>\n",
       "      <td>6</td>\n",
       "      <td>5</td>\n",
       "      <td>8</td>\n",
       "      <td>1</td>\n",
       "      <td>1</td>\n",
       "      <td>10</td>\n",
       "      <td>0</td>\n",
       "      <td>0</td>\n",
       "      <td>0</td>\n",
       "      <td>1.0</td>\n",
       "    </tr>\n",
       "    <tr>\n",
       "      <th>2</th>\n",
       "      <td>9</td>\n",
       "      <td>6</td>\n",
       "      <td>0</td>\n",
       "      <td>10</td>\n",
       "      <td>1</td>\n",
       "      <td>1</td>\n",
       "      <td>8</td>\n",
       "      <td>0</td>\n",
       "      <td>1</td>\n",
       "      <td>0</td>\n",
       "      <td>1.0</td>\n",
       "    </tr>\n",
       "    <tr>\n",
       "      <th>3</th>\n",
       "      <td>7</td>\n",
       "      <td>9</td>\n",
       "      <td>3</td>\n",
       "      <td>6</td>\n",
       "      <td>1</td>\n",
       "      <td>0</td>\n",
       "      <td>7</td>\n",
       "      <td>1</td>\n",
       "      <td>0</td>\n",
       "      <td>0</td>\n",
       "      <td>1.0</td>\n",
       "    </tr>\n",
       "    <tr>\n",
       "      <th>4</th>\n",
       "      <td>9</td>\n",
       "      <td>8</td>\n",
       "      <td>1</td>\n",
       "      <td>6</td>\n",
       "      <td>1</td>\n",
       "      <td>0</td>\n",
       "      <td>6</td>\n",
       "      <td>1</td>\n",
       "      <td>1</td>\n",
       "      <td>0</td>\n",
       "      <td>1.0</td>\n",
       "    </tr>\n",
       "    <tr>\n",
       "      <th>...</th>\n",
       "      <td>...</td>\n",
       "      <td>...</td>\n",
       "      <td>...</td>\n",
       "      <td>...</td>\n",
       "      <td>...</td>\n",
       "      <td>...</td>\n",
       "      <td>...</td>\n",
       "      <td>...</td>\n",
       "      <td>...</td>\n",
       "      <td>...</td>\n",
       "      <td>...</td>\n",
       "    </tr>\n",
       "    <tr>\n",
       "      <th>2059</th>\n",
       "      <td>9</td>\n",
       "      <td>8</td>\n",
       "      <td>8</td>\n",
       "      <td>2</td>\n",
       "      <td>0</td>\n",
       "      <td>1</td>\n",
       "      <td>10</td>\n",
       "      <td>1</td>\n",
       "      <td>1</td>\n",
       "      <td>0</td>\n",
       "      <td>1.0</td>\n",
       "    </tr>\n",
       "    <tr>\n",
       "      <th>2060</th>\n",
       "      <td>7</td>\n",
       "      <td>6</td>\n",
       "      <td>2</td>\n",
       "      <td>2</td>\n",
       "      <td>0</td>\n",
       "      <td>1</td>\n",
       "      <td>6</td>\n",
       "      <td>1</td>\n",
       "      <td>1</td>\n",
       "      <td>0</td>\n",
       "      <td>1.0</td>\n",
       "    </tr>\n",
       "    <tr>\n",
       "      <th>2061</th>\n",
       "      <td>7</td>\n",
       "      <td>6</td>\n",
       "      <td>2</td>\n",
       "      <td>0</td>\n",
       "      <td>0</td>\n",
       "      <td>1</td>\n",
       "      <td>5</td>\n",
       "      <td>1</td>\n",
       "      <td>0</td>\n",
       "      <td>0</td>\n",
       "      <td>1.0</td>\n",
       "    </tr>\n",
       "    <tr>\n",
       "      <th>2062</th>\n",
       "      <td>5</td>\n",
       "      <td>5</td>\n",
       "      <td>1</td>\n",
       "      <td>3</td>\n",
       "      <td>0</td>\n",
       "      <td>0</td>\n",
       "      <td>5</td>\n",
       "      <td>0</td>\n",
       "      <td>0</td>\n",
       "      <td>0</td>\n",
       "      <td>0.0</td>\n",
       "    </tr>\n",
       "    <tr>\n",
       "      <th>2063</th>\n",
       "      <td>7</td>\n",
       "      <td>5</td>\n",
       "      <td>0</td>\n",
       "      <td>2</td>\n",
       "      <td>0</td>\n",
       "      <td>0</td>\n",
       "      <td>5</td>\n",
       "      <td>0</td>\n",
       "      <td>0</td>\n",
       "      <td>0</td>\n",
       "      <td>0.0</td>\n",
       "    </tr>\n",
       "  </tbody>\n",
       "</table>\n",
       "<p>2062 rows × 11 columns</p>\n",
       "</div>"
      ],
      "text/plain": [
       "      10th  12th  Academic_Projects  Communication_Skills  \\\n",
       "0        9    10                 10                     6   \n",
       "1        8     6                  5                     8   \n",
       "2        9     6                  0                    10   \n",
       "3        7     9                  3                     6   \n",
       "4        9     8                  1                     6   \n",
       "...    ...   ...                ...                   ...   \n",
       "2059     9     8                  8                     2   \n",
       "2060     7     6                  2                     2   \n",
       "2061     7     6                  2                     0   \n",
       "2062     5     5                  1                     3   \n",
       "2063     7     5                  0                     2   \n",
       "\n",
       "      Android_Development  Competitive_Coding  Graduation_GPA  Internship  \\\n",
       "0                       1                   1               6           1   \n",
       "1                       1                   1              10           0   \n",
       "2                       1                   1               8           0   \n",
       "3                       1                   0               7           1   \n",
       "4                       1                   0               6           1   \n",
       "...                   ...                 ...             ...         ...   \n",
       "2059                    0                   1              10           1   \n",
       "2060                    0                   1               6           1   \n",
       "2061                    0                   1               5           1   \n",
       "2062                    0                   0               5           0   \n",
       "2063                    0                   0               5           0   \n",
       "\n",
       "      Web_Development  Machine_Learning  xResult  \n",
       "0                   1                 1      1.0  \n",
       "1                   0                 0      1.0  \n",
       "2                   1                 0      1.0  \n",
       "3                   0                 0      1.0  \n",
       "4                   1                 0      1.0  \n",
       "...               ...               ...      ...  \n",
       "2059                1                 0      1.0  \n",
       "2060                1                 0      1.0  \n",
       "2061                0                 0      1.0  \n",
       "2062                0                 0      0.0  \n",
       "2063                0                 0      0.0  \n",
       "\n",
       "[2062 rows x 11 columns]"
      ]
     },
     "execution_count": 3,
     "metadata": {},
     "output_type": "execute_result"
    }
   ],
   "source": [
    "# nan_list = []\n",
    "# nan_rows = data[data['10th'].isnull()]\n",
    "# for i in range(len(nan_rows)):\n",
    "#     nan_list.append(nan_rows.index.values.astype(int)[i])\n",
    "# print(nan_list)\n",
    "# data.drop(nan_list)\n",
    "\n",
    "invalid_entry_tenth = []\n",
    "invalid_alpah_entry = []\n",
    "invalid_numbers_entry = []\n",
    "for i in range(len(data)):\n",
    "    try:\n",
    "        int(data['10th'][i])\n",
    "    except:\n",
    "        invalid_entry_tenth.append(i)\n",
    "# data = data.drop(invalid_entry_tenth)     \n",
    "        \n",
    "for i in range(len(data)):\n",
    "    try:\n",
    "        if int(data['Android_Development'][i]) > 1 or int(data['Android_Development'][i]) < 0:\n",
    "            invalid_numbers_entry.append(i)\n",
    "        elif int(data['10th'][i]) > 10 or int(data['10th'][i]) < 0:\n",
    "            invalid_numbers_entry.append(i)\n",
    "        elif int(data['Competitive_Coding'][i]) > 1 or int(data['Competitive_Coding'][i]) < 0:\n",
    "            invalid_numbers_entry.append(i)\n",
    "        elif int(data['12th'][i]) > 10 or int(data['12th'][i]) < 0:\n",
    "            invalid_numbers_entry.append(i)\n",
    "        elif int(data['Internship'][i]) > 1 or int(data['Internship'][i]) < 0:\n",
    "            invalid_numbers_entry.append(i)\n",
    "        elif int(data['Academic_Projects'][i]) > 10 or int(data['Academic_Projects'][i]) < 0:\n",
    "            invalid_numbers_entry.append(i)\n",
    "        elif int(data['Web_Development'][i]) > 1 or int(data['Web_Development'][i]) < 0:\n",
    "            invalid_numbers_entry.append(i)\n",
    "        elif int(data['Graduation_GPA'][i]) > 10 or int(data['Graduation_GPA'][i]) < 0:\n",
    "            invalid_numbers_entry.append(i)\n",
    "        elif int(data['Machine_Learning'][i]) > 1 or int(data['Machine_Learning'][i]) < 0:\n",
    "            invalid_numbers_entry.append(i)\n",
    "        elif int(data['Communication_Skills'][i]) > 10 or int(data['Communication_Skills'][i]) < 0:\n",
    "            invalid_numbers_entry.append(i)\n",
    "        elif int(data['xResult'][i]) > 1 or int(data['xResult'][i]) < 0:\n",
    "            invalid_numbers_entry.append(i)\n",
    "        \n",
    "    except:\n",
    "        continue\n",
    "\n",
    "final_list = invalid_entry_tenth + invalid_numbers_entry\n",
    "final_list = list(set(final_list))\n",
    "data = data.drop(final_list)\n",
    "data"
   ]
  },
  {
   "cell_type": "code",
   "execution_count": 4,
   "metadata": {},
   "outputs": [
    {
     "data": {
      "text/plain": [
       "Int64Index([   0,    1,    2,    3,    4,    5,    6,    7,    8,    9,\n",
       "            ...\n",
       "            2054, 2055, 2056, 2057, 2058, 2059, 2060, 2061, 2062, 2063],\n",
       "           dtype='int64', length=2062)"
      ]
     },
     "execution_count": 4,
     "metadata": {},
     "output_type": "execute_result"
    }
   ],
   "source": [
    "data.index"
   ]
  },
  {
   "cell_type": "code",
   "execution_count": 5,
   "metadata": {},
   "outputs": [
    {
     "data": {
      "text/plain": [
       "Index(['10th', '12th', 'Academic_Projects', 'Communication_Skills',\n",
       "       'Android_Development', 'Competitive_Coding', 'Graduation_GPA',\n",
       "       'Internship', 'Web_Development', 'Machine_Learning', 'xResult'],\n",
       "      dtype='object')"
      ]
     },
     "execution_count": 5,
     "metadata": {},
     "output_type": "execute_result"
    }
   ],
   "source": [
    "data.columns"
   ]
  },
  {
   "cell_type": "code",
   "execution_count": 6,
   "metadata": {},
   "outputs": [
    {
     "data": {
      "text/html": [
       "<div>\n",
       "<style scoped>\n",
       "    .dataframe tbody tr th:only-of-type {\n",
       "        vertical-align: middle;\n",
       "    }\n",
       "\n",
       "    .dataframe tbody tr th {\n",
       "        vertical-align: top;\n",
       "    }\n",
       "\n",
       "    .dataframe thead th {\n",
       "        text-align: right;\n",
       "    }\n",
       "</style>\n",
       "<table border=\"1\" class=\"dataframe\">\n",
       "  <thead>\n",
       "    <tr style=\"text-align: right;\">\n",
       "      <th></th>\n",
       "      <th>10th</th>\n",
       "      <th>12th</th>\n",
       "      <th>Academic_Projects</th>\n",
       "      <th>Communication_Skills</th>\n",
       "      <th>Android_Development</th>\n",
       "      <th>Competitive_Coding</th>\n",
       "      <th>Graduation_GPA</th>\n",
       "      <th>Internship</th>\n",
       "      <th>Web_Development</th>\n",
       "      <th>Machine_Learning</th>\n",
       "      <th>xResult</th>\n",
       "    </tr>\n",
       "  </thead>\n",
       "  <tbody>\n",
       "    <tr>\n",
       "      <th>count</th>\n",
       "      <td>2062.000000</td>\n",
       "      <td>2062.000000</td>\n",
       "      <td>2062.000000</td>\n",
       "      <td>2062.000000</td>\n",
       "      <td>2062.000000</td>\n",
       "      <td>2062.000000</td>\n",
       "      <td>2062.000000</td>\n",
       "      <td>2062.00000</td>\n",
       "      <td>2062.000000</td>\n",
       "      <td>2062.000000</td>\n",
       "      <td>2062.000000</td>\n",
       "    </tr>\n",
       "    <tr>\n",
       "      <th>mean</th>\n",
       "      <td>8.477207</td>\n",
       "      <td>7.953928</td>\n",
       "      <td>4.935984</td>\n",
       "      <td>6.487876</td>\n",
       "      <td>0.494180</td>\n",
       "      <td>0.494665</td>\n",
       "      <td>7.976722</td>\n",
       "      <td>0.49903</td>\n",
       "      <td>0.511154</td>\n",
       "      <td>0.494180</td>\n",
       "      <td>0.612512</td>\n",
       "    </tr>\n",
       "    <tr>\n",
       "      <th>std</th>\n",
       "      <td>1.151424</td>\n",
       "      <td>1.460232</td>\n",
       "      <td>3.145783</td>\n",
       "      <td>2.341242</td>\n",
       "      <td>0.500087</td>\n",
       "      <td>0.500093</td>\n",
       "      <td>1.422233</td>\n",
       "      <td>0.50012</td>\n",
       "      <td>0.499997</td>\n",
       "      <td>0.500087</td>\n",
       "      <td>0.487295</td>\n",
       "    </tr>\n",
       "    <tr>\n",
       "      <th>min</th>\n",
       "      <td>5.000000</td>\n",
       "      <td>5.000000</td>\n",
       "      <td>0.000000</td>\n",
       "      <td>0.000000</td>\n",
       "      <td>0.000000</td>\n",
       "      <td>0.000000</td>\n",
       "      <td>5.000000</td>\n",
       "      <td>0.00000</td>\n",
       "      <td>0.000000</td>\n",
       "      <td>0.000000</td>\n",
       "      <td>0.000000</td>\n",
       "    </tr>\n",
       "    <tr>\n",
       "      <th>25%</th>\n",
       "      <td>7.000000</td>\n",
       "      <td>7.000000</td>\n",
       "      <td>2.000000</td>\n",
       "      <td>4.000000</td>\n",
       "      <td>0.000000</td>\n",
       "      <td>0.000000</td>\n",
       "      <td>7.000000</td>\n",
       "      <td>0.00000</td>\n",
       "      <td>0.000000</td>\n",
       "      <td>0.000000</td>\n",
       "      <td>0.000000</td>\n",
       "    </tr>\n",
       "    <tr>\n",
       "      <th>50%</th>\n",
       "      <td>8.000000</td>\n",
       "      <td>8.000000</td>\n",
       "      <td>5.000000</td>\n",
       "      <td>6.000000</td>\n",
       "      <td>0.000000</td>\n",
       "      <td>0.000000</td>\n",
       "      <td>8.000000</td>\n",
       "      <td>0.00000</td>\n",
       "      <td>1.000000</td>\n",
       "      <td>0.000000</td>\n",
       "      <td>1.000000</td>\n",
       "    </tr>\n",
       "    <tr>\n",
       "      <th>75%</th>\n",
       "      <td>9.000000</td>\n",
       "      <td>9.000000</td>\n",
       "      <td>8.000000</td>\n",
       "      <td>9.000000</td>\n",
       "      <td>1.000000</td>\n",
       "      <td>1.000000</td>\n",
       "      <td>9.000000</td>\n",
       "      <td>1.00000</td>\n",
       "      <td>1.000000</td>\n",
       "      <td>1.000000</td>\n",
       "      <td>1.000000</td>\n",
       "    </tr>\n",
       "    <tr>\n",
       "      <th>max</th>\n",
       "      <td>10.000000</td>\n",
       "      <td>10.000000</td>\n",
       "      <td>10.000000</td>\n",
       "      <td>10.000000</td>\n",
       "      <td>1.000000</td>\n",
       "      <td>1.000000</td>\n",
       "      <td>10.000000</td>\n",
       "      <td>1.00000</td>\n",
       "      <td>1.000000</td>\n",
       "      <td>1.000000</td>\n",
       "      <td>1.000000</td>\n",
       "    </tr>\n",
       "  </tbody>\n",
       "</table>\n",
       "</div>"
      ],
      "text/plain": [
       "              10th         12th  Academic_Projects  Communication_Skills  \\\n",
       "count  2062.000000  2062.000000        2062.000000           2062.000000   \n",
       "mean      8.477207     7.953928           4.935984              6.487876   \n",
       "std       1.151424     1.460232           3.145783              2.341242   \n",
       "min       5.000000     5.000000           0.000000              0.000000   \n",
       "25%       7.000000     7.000000           2.000000              4.000000   \n",
       "50%       8.000000     8.000000           5.000000              6.000000   \n",
       "75%       9.000000     9.000000           8.000000              9.000000   \n",
       "max      10.000000    10.000000          10.000000             10.000000   \n",
       "\n",
       "       Android_Development  Competitive_Coding  Graduation_GPA  Internship  \\\n",
       "count          2062.000000         2062.000000     2062.000000  2062.00000   \n",
       "mean              0.494180            0.494665        7.976722     0.49903   \n",
       "std               0.500087            0.500093        1.422233     0.50012   \n",
       "min               0.000000            0.000000        5.000000     0.00000   \n",
       "25%               0.000000            0.000000        7.000000     0.00000   \n",
       "50%               0.000000            0.000000        8.000000     0.00000   \n",
       "75%               1.000000            1.000000        9.000000     1.00000   \n",
       "max               1.000000            1.000000       10.000000     1.00000   \n",
       "\n",
       "       Web_Development  Machine_Learning      xResult  \n",
       "count      2062.000000       2062.000000  2062.000000  \n",
       "mean          0.511154          0.494180     0.612512  \n",
       "std           0.499997          0.500087     0.487295  \n",
       "min           0.000000          0.000000     0.000000  \n",
       "25%           0.000000          0.000000     0.000000  \n",
       "50%           1.000000          0.000000     1.000000  \n",
       "75%           1.000000          1.000000     1.000000  \n",
       "max           1.000000          1.000000     1.000000  "
      ]
     },
     "execution_count": 6,
     "metadata": {},
     "output_type": "execute_result"
    }
   ],
   "source": [
    "data.describe()"
   ]
  },
  {
   "cell_type": "code",
   "execution_count": 7,
   "metadata": {
    "scrolled": true
   },
   "outputs": [
    {
     "data": {
      "text/html": [
       "<div>\n",
       "<style scoped>\n",
       "    .dataframe tbody tr th:only-of-type {\n",
       "        vertical-align: middle;\n",
       "    }\n",
       "\n",
       "    .dataframe tbody tr th {\n",
       "        vertical-align: top;\n",
       "    }\n",
       "\n",
       "    .dataframe thead th {\n",
       "        text-align: right;\n",
       "    }\n",
       "</style>\n",
       "<table border=\"1\" class=\"dataframe\">\n",
       "  <thead>\n",
       "    <tr style=\"text-align: right;\">\n",
       "      <th></th>\n",
       "      <th>10th</th>\n",
       "      <th>12th</th>\n",
       "      <th>Academic_Projects</th>\n",
       "      <th>Communication_Skills</th>\n",
       "      <th>Android_Development</th>\n",
       "      <th>Competitive_Coding</th>\n",
       "      <th>Graduation_GPA</th>\n",
       "      <th>Internship</th>\n",
       "      <th>Web_Development</th>\n",
       "      <th>Machine_Learning</th>\n",
       "      <th>xResult</th>\n",
       "    </tr>\n",
       "  </thead>\n",
       "  <tbody>\n",
       "    <tr>\n",
       "      <th>10th</th>\n",
       "      <td>1.000000</td>\n",
       "      <td>0.016834</td>\n",
       "      <td>0.032282</td>\n",
       "      <td>-0.010812</td>\n",
       "      <td>-0.027195</td>\n",
       "      <td>0.040656</td>\n",
       "      <td>0.017749</td>\n",
       "      <td>0.017656</td>\n",
       "      <td>-0.026949</td>\n",
       "      <td>-0.001073</td>\n",
       "      <td>0.015815</td>\n",
       "    </tr>\n",
       "    <tr>\n",
       "      <th>12th</th>\n",
       "      <td>0.016834</td>\n",
       "      <td>1.000000</td>\n",
       "      <td>-0.012789</td>\n",
       "      <td>-0.016556</td>\n",
       "      <td>0.015247</td>\n",
       "      <td>0.001989</td>\n",
       "      <td>-0.002152</td>\n",
       "      <td>0.002929</td>\n",
       "      <td>-0.016242</td>\n",
       "      <td>0.042489</td>\n",
       "      <td>0.032177</td>\n",
       "    </tr>\n",
       "    <tr>\n",
       "      <th>Academic_Projects</th>\n",
       "      <td>0.032282</td>\n",
       "      <td>-0.012789</td>\n",
       "      <td>1.000000</td>\n",
       "      <td>0.001607</td>\n",
       "      <td>0.029680</td>\n",
       "      <td>0.017980</td>\n",
       "      <td>0.014416</td>\n",
       "      <td>0.005512</td>\n",
       "      <td>0.000454</td>\n",
       "      <td>0.034615</td>\n",
       "      <td>0.162644</td>\n",
       "    </tr>\n",
       "    <tr>\n",
       "      <th>Communication_Skills</th>\n",
       "      <td>-0.010812</td>\n",
       "      <td>-0.016556</td>\n",
       "      <td>0.001607</td>\n",
       "      <td>1.000000</td>\n",
       "      <td>-0.026168</td>\n",
       "      <td>-0.016010</td>\n",
       "      <td>0.020461</td>\n",
       "      <td>0.017394</td>\n",
       "      <td>0.007784</td>\n",
       "      <td>-0.019123</td>\n",
       "      <td>0.156001</td>\n",
       "    </tr>\n",
       "    <tr>\n",
       "      <th>Android_Development</th>\n",
       "      <td>-0.027195</td>\n",
       "      <td>0.015247</td>\n",
       "      <td>0.029680</td>\n",
       "      <td>-0.026168</td>\n",
       "      <td>1.000000</td>\n",
       "      <td>-0.017585</td>\n",
       "      <td>-0.000873</td>\n",
       "      <td>-0.016513</td>\n",
       "      <td>0.004141</td>\n",
       "      <td>-0.034088</td>\n",
       "      <td>0.270486</td>\n",
       "    </tr>\n",
       "    <tr>\n",
       "      <th>Competitive_Coding</th>\n",
       "      <td>0.040656</td>\n",
       "      <td>0.001989</td>\n",
       "      <td>0.017980</td>\n",
       "      <td>-0.016010</td>\n",
       "      <td>-0.017585</td>\n",
       "      <td>1.000000</td>\n",
       "      <td>0.013469</td>\n",
       "      <td>0.019379</td>\n",
       "      <td>0.014792</td>\n",
       "      <td>0.001816</td>\n",
       "      <td>0.297138</td>\n",
       "    </tr>\n",
       "    <tr>\n",
       "      <th>Graduation_GPA</th>\n",
       "      <td>0.017749</td>\n",
       "      <td>-0.002152</td>\n",
       "      <td>0.014416</td>\n",
       "      <td>0.020461</td>\n",
       "      <td>-0.000873</td>\n",
       "      <td>0.013469</td>\n",
       "      <td>1.000000</td>\n",
       "      <td>0.029300</td>\n",
       "      <td>-0.015328</td>\n",
       "      <td>0.027097</td>\n",
       "      <td>0.016383</td>\n",
       "    </tr>\n",
       "    <tr>\n",
       "      <th>Internship</th>\n",
       "      <td>0.017656</td>\n",
       "      <td>0.002929</td>\n",
       "      <td>0.005512</td>\n",
       "      <td>0.017394</td>\n",
       "      <td>-0.016513</td>\n",
       "      <td>0.019379</td>\n",
       "      <td>0.029300</td>\n",
       "      <td>1.000000</td>\n",
       "      <td>-0.017420</td>\n",
       "      <td>0.024227</td>\n",
       "      <td>0.288137</td>\n",
       "    </tr>\n",
       "    <tr>\n",
       "      <th>Web_Development</th>\n",
       "      <td>-0.026949</td>\n",
       "      <td>-0.016242</td>\n",
       "      <td>0.000454</td>\n",
       "      <td>0.007784</td>\n",
       "      <td>0.004141</td>\n",
       "      <td>0.014792</td>\n",
       "      <td>-0.015328</td>\n",
       "      <td>-0.017420</td>\n",
       "      <td>1.000000</td>\n",
       "      <td>0.011903</td>\n",
       "      <td>0.297543</td>\n",
       "    </tr>\n",
       "    <tr>\n",
       "      <th>Machine_Learning</th>\n",
       "      <td>-0.001073</td>\n",
       "      <td>0.042489</td>\n",
       "      <td>0.034615</td>\n",
       "      <td>-0.019123</td>\n",
       "      <td>-0.034088</td>\n",
       "      <td>0.001816</td>\n",
       "      <td>0.027097</td>\n",
       "      <td>0.024227</td>\n",
       "      <td>0.011903</td>\n",
       "      <td>1.000000</td>\n",
       "      <td>0.316280</td>\n",
       "    </tr>\n",
       "    <tr>\n",
       "      <th>xResult</th>\n",
       "      <td>0.015815</td>\n",
       "      <td>0.032177</td>\n",
       "      <td>0.162644</td>\n",
       "      <td>0.156001</td>\n",
       "      <td>0.270486</td>\n",
       "      <td>0.297138</td>\n",
       "      <td>0.016383</td>\n",
       "      <td>0.288137</td>\n",
       "      <td>0.297543</td>\n",
       "      <td>0.316280</td>\n",
       "      <td>1.000000</td>\n",
       "    </tr>\n",
       "  </tbody>\n",
       "</table>\n",
       "</div>"
      ],
      "text/plain": [
       "                          10th      12th  Academic_Projects  \\\n",
       "10th                  1.000000  0.016834           0.032282   \n",
       "12th                  0.016834  1.000000          -0.012789   \n",
       "Academic_Projects     0.032282 -0.012789           1.000000   \n",
       "Communication_Skills -0.010812 -0.016556           0.001607   \n",
       "Android_Development  -0.027195  0.015247           0.029680   \n",
       "Competitive_Coding    0.040656  0.001989           0.017980   \n",
       "Graduation_GPA        0.017749 -0.002152           0.014416   \n",
       "Internship            0.017656  0.002929           0.005512   \n",
       "Web_Development      -0.026949 -0.016242           0.000454   \n",
       "Machine_Learning     -0.001073  0.042489           0.034615   \n",
       "xResult               0.015815  0.032177           0.162644   \n",
       "\n",
       "                      Communication_Skills  Android_Development  \\\n",
       "10th                             -0.010812            -0.027195   \n",
       "12th                             -0.016556             0.015247   \n",
       "Academic_Projects                 0.001607             0.029680   \n",
       "Communication_Skills              1.000000            -0.026168   \n",
       "Android_Development              -0.026168             1.000000   \n",
       "Competitive_Coding               -0.016010            -0.017585   \n",
       "Graduation_GPA                    0.020461            -0.000873   \n",
       "Internship                        0.017394            -0.016513   \n",
       "Web_Development                   0.007784             0.004141   \n",
       "Machine_Learning                 -0.019123            -0.034088   \n",
       "xResult                           0.156001             0.270486   \n",
       "\n",
       "                      Competitive_Coding  Graduation_GPA  Internship  \\\n",
       "10th                            0.040656        0.017749    0.017656   \n",
       "12th                            0.001989       -0.002152    0.002929   \n",
       "Academic_Projects               0.017980        0.014416    0.005512   \n",
       "Communication_Skills           -0.016010        0.020461    0.017394   \n",
       "Android_Development            -0.017585       -0.000873   -0.016513   \n",
       "Competitive_Coding              1.000000        0.013469    0.019379   \n",
       "Graduation_GPA                  0.013469        1.000000    0.029300   \n",
       "Internship                      0.019379        0.029300    1.000000   \n",
       "Web_Development                 0.014792       -0.015328   -0.017420   \n",
       "Machine_Learning                0.001816        0.027097    0.024227   \n",
       "xResult                         0.297138        0.016383    0.288137   \n",
       "\n",
       "                      Web_Development  Machine_Learning   xResult  \n",
       "10th                        -0.026949         -0.001073  0.015815  \n",
       "12th                        -0.016242          0.042489  0.032177  \n",
       "Academic_Projects            0.000454          0.034615  0.162644  \n",
       "Communication_Skills         0.007784         -0.019123  0.156001  \n",
       "Android_Development          0.004141         -0.034088  0.270486  \n",
       "Competitive_Coding           0.014792          0.001816  0.297138  \n",
       "Graduation_GPA              -0.015328          0.027097  0.016383  \n",
       "Internship                  -0.017420          0.024227  0.288137  \n",
       "Web_Development              1.000000          0.011903  0.297543  \n",
       "Machine_Learning             0.011903          1.000000  0.316280  \n",
       "xResult                      0.297543          0.316280  1.000000  "
      ]
     },
     "execution_count": 7,
     "metadata": {},
     "output_type": "execute_result"
    }
   ],
   "source": [
    "data.corr()"
   ]
  },
  {
   "cell_type": "code",
   "execution_count": 8,
   "metadata": {
    "scrolled": true
   },
   "outputs": [
    {
     "data": {
      "image/png": "[encoded data removed]",
      "text/plain": [
       "<Figure size 432x288 with 1 Axes>"
      ]
     },
     "metadata": {
      "needs_background": "light"
     },
     "output_type": "display_data"
    }
   ],
   "source": [
    "import matplotlib.pyplot as plt\n",
    "import numpy as np\n",
    "labels = data.columns\n",
    "data_hm = data.corr()\n",
    "array_data_hm = data_hm.to_numpy()\n",
    "plt.imshow(array_data_hm, cmap='hot', interpolation='nearest')\n",
    "plt.show()"
   ]
  },
  {
   "cell_type": "code",
   "execution_count": 9,
   "metadata": {},
   "outputs": [
    {
     "data": {
      "image/png": "[encoded data removed]",
      "text/plain": [
       "<Figure size 432x288 with 1 Axes>"
      ]
     },
     "metadata": {},
     "output_type": "display_data"
    }
   ],
   "source": [
    "import matplotlib.pyplot as plt\n",
    "android_score = data.Android_Development\n",
    "total_students = 0\n",
    "android_total = 0\n",
    "for i in android_score:\n",
    "    if (i == 1):\n",
    "        total_students = total_students + 1\n",
    "        android_total = android_total + 1\n",
    "    else:\n",
    "        total_students = total_students + 1\n",
    "        continue     \n",
    "fig = plt.figure()\n",
    "ax = fig.add_axes([0,0,1,1])\n",
    "ax.axis('equal')\n",
    "gender = ['Students familiar with Android','Students not familiar with Android']\n",
    "students = [android_total,total_students]\n",
    "ax.pie(students, labels = gender,autopct='%1.2f%%',colors = [\"#1f77b4\", \"#ff7f0e\"])\n",
    "plt.title('Pie chart ')\n",
    "plt.show()\n",
    "\n"
   ]
  },
  {
   "cell_type": "code",
   "execution_count": 10,
   "metadata": {},
   "outputs": [
    {
     "data": {
      "image/png": "[encoded data removed]",
      "text/plain": [
       "<Figure size 432x288 with 1 Axes>"
      ]
     },
     "metadata": {},
     "output_type": "display_data"
    }
   ],
   "source": [
    "import matplotlib.pyplot as plt\n",
    "internship_score = data.Internship\n",
    "total_students = 0\n",
    "internship_total = 0\n",
    "for i in internship_score:\n",
    "    if (i == 1):\n",
    "        total_students = total_students + 1\n",
    "        internship_total = internship_total + 1\n",
    "    else:\n",
    "        total_students = total_students + 1\n",
    "        continue      \n",
    "fig = plt.figure()\n",
    "ax = fig.add_axes([0,0,1,1])\n",
    "ax.axis('equal')\n",
    "gender = ['Students with internships','Students without internships']\n",
    "students = [internship_total,total_students]\n",
    "ax.pie(students, labels = gender,autopct='%1.2f%%',colors = [\"#58508d\", \"#bc5090\"])\n",
    "plt.title('Pie chart ')\n",
    "plt.show()"
   ]
  },
  {
   "cell_type": "code",
   "execution_count": 11,
   "metadata": {},
   "outputs": [
    {
     "data": {
      "image/png": "[encoded data removed]",
      "text/plain": [
       "<Figure size 432x288 with 1 Axes>"
      ]
     },
     "metadata": {},
     "output_type": "display_data"
    }
   ],
   "source": [
    "ml_score = data.Machine_Learning\n",
    "total_students = ml_total = 0\n",
    "for i in ml_score:\n",
    "    if (i == 1):\n",
    "        total_students = total_students + 1\n",
    "        ml_total = ml_total + 1\n",
    "    else:\n",
    "        total_students = total_students + 1\n",
    "        continue    \n",
    "fig = plt.figure()\n",
    "ax = fig.add_axes([0,0,1,1])\n",
    "ax.axis('equal')\n",
    "gender = ['Students familiar with Machine Learning','Students not familiar with Machine Learning']\n",
    "students = [ml_total,total_students]\n",
    "ax.pie(students, labels = gender,autopct='%1.2f%%',colors = [\"#003f5c\", \"#ff7c43\"])\n",
    "plt.title('Pie chart ')\n",
    "plt.show()"
   ]
  },
  {
   "cell_type": "code",
   "execution_count": 12,
   "metadata": {},
   "outputs": [
    {
     "data": {
      "image/png": "[encoded data removed]",
      "text/plain": [
       "<Figure size 432x288 with 1 Axes>"
      ]
     },
     "metadata": {},
     "output_type": "display_data"
    }
   ],
   "source": [
    "wd_score = data.Web_Development\n",
    "total_students = wd_total = 0\n",
    "for i in wd_score:\n",
    "    if (i == 1):\n",
    "        total_students = total_students + 1\n",
    "        wd_total = ml_total + 1\n",
    "    else:\n",
    "        total_students = total_students + 1\n",
    "        continue        \n",
    "fig = plt.figure()\n",
    "ax = fig.add_axes([0,0,1,1])\n",
    "ax.axis('equal')\n",
    "gender = ['Students familiar with Web Development','Students not familiar with Web Development']\n",
    "students = [wd_total,total_students]\n",
    "ax.pie(students, labels = gender,autopct='%1.2f%%',colors = [\"#ff6361\", \"#ffa600\"])\n",
    "plt.title('Pie chart ')\n",
    "plt.show()"
   ]
  },
  {
   "cell_type": "code",
   "execution_count": 13,
   "metadata": {},
   "outputs": [
    {
     "data": {
      "image/png": "[encoded data removed]",
      "text/plain": [
       "<Figure size 432x288 with 1 Axes>"
      ]
     },
     "metadata": {
      "needs_background": "light"
     },
     "output_type": "display_data"
    }
   ],
   "source": [
    "placed = 0\n",
    "not_placed = 0\n",
    "\n",
    "for i in data.xResult:\n",
    "    if (i == 1):\n",
    "        placed = placed + 1\n",
    "    else:\n",
    "        not_placed = not_placed + 1\n",
    "\n",
    "fig = plt.figure()\n",
    "ax = fig.add_axes([0,0,1,1])\n",
    "langs = ['Placed', 'Not Placed']\n",
    "students = [placed, not_placed]\n",
    "ax.bar(langs,students)\n",
    "\n",
    "plt.show()"
   ]
  },
  {
   "cell_type": "code",
   "execution_count": 14,
   "metadata": {},
   "outputs": [
    {
     "name": "stdout",
     "output_type": "stream",
     "text": [
      "10th gpa mean = 8.477206595538313\n",
      "12th gpa mean = 7.9539282250242485\n",
      "btech gpa mean = 7.976721629485936\n"
     ]
    },
    {
     "data": {
      "image/png": "[encoded data removed]",
      "text/plain": [
       "<Figure size 432x288 with 1 Axes>"
      ]
     },
     "metadata": {
      "needs_background": "light"
     },
     "output_type": "display_data"
    }
   ],
   "source": [
    "#average percentage of all education qualification\n",
    "values = [(data['10th'].mean()),(data['12th'].mean()),(data['Graduation_GPA'].mean())]\n",
    "print('10th gpa mean = ' +str(data['10th'].mean()))\n",
    "print('12th gpa mean = ' +str(data['12th'].mean()))\n",
    "print('btech gpa mean = ' +str(data['Graduation_GPA'].mean()))\n",
    "fig = plt.figure()\n",
    "ax = fig.add_axes([0,0,1,1])\n",
    "names = ['10th gpa','12th gpa','btech gpa']\n",
    "ax.set_ylabel('Average percentages')\n",
    "ax.set_title('Average Percentage')\n",
    "ax.bar(names,values,width = 0.5,color=[\"#2ca02c\"])\n",
    "plt.show()"
   ]
  },
  {
   "cell_type": "code",
   "execution_count": 15,
   "metadata": {},
   "outputs": [
    {
     "data": {
      "text/plain": [
       "7.976721629485936"
      ]
     },
     "execution_count": 15,
     "metadata": {},
     "output_type": "execute_result"
    }
   ],
   "source": [
    "data['Graduation_GPA'].mean()"
   ]
  },
  {
   "cell_type": "code",
   "execution_count": 16,
   "metadata": {},
   "outputs": [
    {
     "name": "stdout",
     "output_type": "stream",
     "text": [
      "10th to placement  1.6 %\n",
      "12th to placement  3.2 %\n",
      "btech to placement  1.6 %\n"
     ]
    }
   ],
   "source": [
    "#show the relation between diffrent qualification placement status usinng correlation.\n",
    "print('10th to placement ', round(data['xResult'].corr(data['10th'])*100,1),'%')\n",
    "print('12th to placement ', round(data['xResult'].corr(data['12th'])*100,1),'%')\n",
    "print('btech to placement ', round(data['xResult'].corr(data['Graduation_GPA'])*100,1),'%')\n"
   ]
  },
  {
   "cell_type": "code",
   "execution_count": 17,
   "metadata": {
    "pycharm": {
     "name": "#%%\n"
    }
   },
   "outputs": [],
   "source": [
    "data=np.asarray(data);"
   ]
  },
  {
   "cell_type": "code",
   "execution_count": 18,
   "metadata": {},
   "outputs": [
    {
     "data": {
      "text/plain": [
       "numpy.ndarray"
      ]
     },
     "execution_count": 18,
     "metadata": {},
     "output_type": "execute_result"
    }
   ],
   "source": [
    "type(data)"
   ]
  },
  {
   "cell_type": "code",
   "execution_count": 19,
   "metadata": {
    "pycharm": {
     "name": "#%%\n"
    }
   },
   "outputs": [],
   "source": [
    "X = data[:,0:10]\n",
    "Y = data[:,10:11]"
   ]
  },
  {
   "cell_type": "code",
   "execution_count": 20,
   "metadata": {
    "pycharm": {
     "name": "#%%\n"
    }
   },
   "outputs": [
    {
     "name": "stdout",
     "output_type": "stream",
     "text": [
      "(1443, 10)\n",
      "(619, 10)\n",
      "(1443, 1)\n",
      "(619, 1)\n"
     ]
    }
   ],
   "source": [
    "from sklearn.model_selection import train_test_split\n",
    "validation_size = 0.30\n",
    "seed = 7\n",
    "X_train, X_test, Y_train, Y_test = train_test_split(X,Y,test_size=validation_size, random_state = seed)\n",
    "print(X_train.shape)\n",
    "print(X_test.shape)\n",
    "print(Y_train.shape)\n",
    "print(Y_test.shape)"
   ]
  },
  {
   "cell_type": "code",
   "execution_count": 21,
   "metadata": {
    "pycharm": {
     "name": "#%%\n"
    }
   },
   "outputs": [],
   "source": [
    "#Imports\n",
    "from matplotlib import pyplot\n",
    "from sklearn.model_selection import train_test_split\n",
    "from sklearn.metrics import classification_report\n",
    "from sklearn.metrics import confusion_matrix\n",
    "from sklearn.metrics import accuracy_score\n",
    "from sklearn.model_selection import KFold\n",
    "from sklearn.model_selection import cross_val_score\n",
    "from sklearn.linear_model import LogisticRegression\n",
    "from sklearn.tree import DecisionTreeClassifier\n",
    "from sklearn.neighbors import KNeighborsClassifier\n",
    "from sklearn.ensemble import RandomForestClassifier\n",
    "from sklearn.naive_bayes import GaussianNB\n",
    "from sklearn.svm import SVC\n"
   ]
  },
  {
   "cell_type": "code",
   "execution_count": 29,
   "metadata": {
    "pycharm": {
     "name": "#%%\n"
    }
   },
   "outputs": [
    {
     "name": "stdout",
     "output_type": "stream",
     "text": [
      "LR: 0.873241 (0.030675)\n",
      "KNN: 0.724667 (0.031059)\n",
      "DT: 0.885373 (0.024223)\n",
      "RF: 0.881737 (0.026913)\n",
      "NB: 0.839283 (0.036856)\n",
      "SVM: 0.865355 (0.025077)\n"
     ]
    }
   ],
   "source": [
    "num_trees = 200\n",
    "max_features = 10\n",
    "models = []\n",
    "models.append(('LR', LogisticRegression()))\n",
    "models.append(('KNN', KNeighborsClassifier()))\n",
    "models.append(('DT', DecisionTreeClassifier()))\n",
    "models.append(('RF', RandomForestClassifier(n_estimators=num_trees, max_features=max_features)))\n",
    "models.append(('NB', GaussianNB()))\n",
    "models.append(('SVM', SVC()))\n",
    "#Fit Models and Evaulate\n",
    "results = []\n",
    "names = []\n",
    "scoring = 'accuracy'\n",
    "#Cross Validation\n",
    "for name, model in models:\n",
    " kfold = KFold(n_splits = 10, random_state=7)\n",
    " cv_results = cross_val_score(model, X_train, Y_train, cv=kfold, scoring = scoring)\n",
    " results.append(cv_results)\n",
    " names.append(name)\n",
    " msg = \"%s: %f (%f)\" % (name,cv_results.mean(), cv_results.std())\n",
    " print(msg)\n",
    "import warnings\n",
    "warnings.filterwarnings('ignore')"
   ]
  },
  {
   "cell_type": "code",
   "execution_count": 30,
   "metadata": {
    "pycharm": {
     "name": "#%%\n"
    }
   },
   "outputs": [
    {
     "name": "stdout",
     "output_type": "stream",
     "text": [
      "Model --- LogisticRegression\n",
      "Accuracy: 86.4406779661017 \n",
      "              precision    recall  f1-score   support\n",
      "\n",
      "         0.0       0.84      0.81      0.83       163\n",
      "         1.0       0.88      0.90      0.89       250\n",
      "\n",
      "    accuracy                           0.86       413\n",
      "   macro avg       0.86      0.85      0.86       413\n",
      "weighted avg       0.86      0.86      0.86       413\n",
      "\n"
     ]
    }
   ],
   "source": [
    "validation_size = 0.20\n",
    "seed = 8\n",
    "X_train, X_test, Y_train, Y_test = train_test_split(X,Y,test_size=validation_size, random_state = seed)\n",
    "# Step 1 - Create prediction model\n",
    "model = LogisticRegression()\n",
    "#Step 2 - Fit model\n",
    "model.fit(X_train, Y_train)\n",
    "#Step 3 - Predictions\n",
    "predictions = model.predict(X_test)\n",
    "#Step 4 - Check Accuracy\n",
    "print(\"Model --- LogisticRegression\")\n",
    "print(\"Accuracy: {} \".format(accuracy_score(Y_test,predictions) * 100))\n",
    "print(classification_report(Y_test, predictions))"
   ]
  },
  {
   "cell_type": "code",
   "execution_count": 31,
   "metadata": {},
   "outputs": [
    {
     "name": "stdout",
     "output_type": "stream",
     "text": [
      "Model --- SVM\n",
      "Accuracy: 84.98789346246973 \n",
      "              precision    recall  f1-score   support\n",
      "\n",
      "         0.0       0.85      0.75      0.80       163\n",
      "         1.0       0.85      0.92      0.88       250\n",
      "\n",
      "    accuracy                           0.85       413\n",
      "   macro avg       0.85      0.83      0.84       413\n",
      "weighted avg       0.85      0.85      0.85       413\n",
      "\n"
     ]
    }
   ],
   "source": [
    "validation_size = 0.20\n",
    "seed =8\n",
    "X_train, X_test, Y_train, Y_test = train_test_split(X,Y,test_size=validation_size, random_state = seed)\n",
    "# Step 1 - Create prediction model\n",
    "model = SVC()\n",
    "#Step 2 - Fit model\n",
    "model.fit(X_train, Y_train)\n",
    "#Step 3 - Predictions\n",
    "predictions = model.predict(X_test)\n",
    "#Step 4 - Check Accuracy\n",
    "print(\"Model --- SVM\")\n",
    "print(\"Accuracy: {} \".format(accuracy_score(Y_test,predictions) * 100))\n",
    "print(classification_report(Y_test, predictions))"
   ]
  },
  {
   "cell_type": "code",
   "execution_count": 32,
   "metadata": {},
   "outputs": [
    {
     "name": "stdout",
     "output_type": "stream",
     "text": [
      "Model --- KNN\n",
      "Accuracy: 71.1864406779661 \n",
      "              precision    recall  f1-score   support\n",
      "\n",
      "         0.0       0.65      0.58      0.61       163\n",
      "         1.0       0.74      0.80      0.77       250\n",
      "\n",
      "    accuracy                           0.71       413\n",
      "   macro avg       0.70      0.69      0.69       413\n",
      "weighted avg       0.71      0.71      0.71       413\n",
      "\n"
     ]
    }
   ],
   "source": [
    "# Step 1 - Create prediction model\n",
    "model = KNeighborsClassifier()\n",
    "#Step 2 - Fit model\n",
    "model.fit(X_train, Y_train)\n",
    "#Step 3 - Predictions\n",
    "predictions = model.predict(X_test)\n",
    "#Step 4 - Check Accuracy\n",
    "print(\"Model --- KNN\")\n",
    "print(\"Accuracy: {} \".format(accuracy_score(Y_test,predictions) * 100))\n",
    "print(classification_report(Y_test, predictions))"
   ]
  },
  {
   "cell_type": "code",
   "execution_count": 33,
   "metadata": {},
   "outputs": [
    {
     "name": "stdout",
     "output_type": "stream",
     "text": [
      "Model ---  XG Boost \n",
      "Accuracy: 86.4406779661017 \n",
      "              precision    recall  f1-score   support\n",
      "\n",
      "         0.0       0.84      0.81      0.83       163\n",
      "         1.0       0.88      0.90      0.89       250\n",
      "\n",
      "    accuracy                           0.86       413\n",
      "   macro avg       0.86      0.85      0.86       413\n",
      "weighted avg       0.86      0.86      0.86       413\n",
      "\n"
     ]
    }
   ],
   "source": [
    "validation_size = 0.20\n",
    "seed =8\n",
    "X_train, X_test, Y_train, Y_test = train_test_split(X,Y,test_size=validation_size, random_state = seed)\n",
    "from xgboost import XGBClassifier\n",
    "from sklearn.metrics import accuracy_score\n",
    "model = XGBClassifier()\n",
    "\n",
    "# fit the model with the training data\n",
    "model.fit(X_train, Y_train)\n",
    "predictions = model.predict(X_test)\n",
    "#Step 4 - Check Accuracy\n",
    "print(\"Model ---  XG Boost \")\n",
    "print(\"Accuracy: {} \".format(accuracy_score(Y_test,predictions) * 100))\n",
    "print(classification_report(Y_test, predictions))"
   ]
  },
  {
   "cell_type": "code",
   "execution_count": 34,
   "metadata": {},
   "outputs": [
    {
     "name": "stdout",
     "output_type": "stream",
     "text": [
      "Model ---  Decision Tree \n",
      "Accuracy: 87.89346246973365 \n",
      "              precision    recall  f1-score   support\n",
      "\n",
      "         0.0       0.85      0.84      0.85       163\n",
      "         1.0       0.90      0.90      0.90       250\n",
      "\n",
      "    accuracy                           0.88       413\n",
      "   macro avg       0.87      0.87      0.87       413\n",
      "weighted avg       0.88      0.88      0.88       413\n",
      "\n"
     ]
    }
   ],
   "source": [
    "validation_size = 0.20\n",
    "seed =8\n",
    "X_train, X_test, Y_train, Y_test = train_test_split(X,Y,test_size=validation_size, random_state = seed)\n",
    "# Step 1 - Create prediction model\n",
    "model =  DecisionTreeClassifier()\n",
    "#Step 2 - Fit model\n",
    "model.fit(X_train, Y_train)\n",
    "#Step 3 - Predictions\n",
    "predictions = model.predict(X_test)\n",
    "#Step 4 - Check Accuracy\n",
    "print(\"Model ---  Decision Tree \")\n",
    "print(\"Accuracy: {} \".format(accuracy_score(Y_test,predictions) * 100))\n",
    "print(classification_report(Y_test, predictions))"
   ]
  },
  {
   "cell_type": "code",
   "execution_count": 35,
   "metadata": {
    "pycharm": {
     "name": "#%%\n"
    }
   },
   "outputs": [
    {
     "name": "stdout",
     "output_type": "stream",
     "text": [
      "Status of Student with 10TH CGPA = 8, 12TH CGPA = 8, Grad_CGPA = 7 will be ----- PLACED\n",
      "Status of Student with 10TH CGPA = 8, 12TH CGPA = 7, Grad_CGPA = 8 will be ----- PLACED\n"
     ]
    }
   ],
   "source": [
    "new_data_add = (8,7,5,8,0,1,8,0,0,0)\n",
    "new_data = [(8,8,6,8,1,0,7,1,1,0),]\n",
    "new_data.append(new_data_add)\n",
    "#Convert to numpy array\n",
    "new_array = np.asarray(new_data)\n",
    "#Output Labels\n",
    "labels=[\"NOT PLACED\",\"PLACED\"]\n",
    "#Let's make some predictions\n",
    "prediction=model.predict(new_array)\n",
    "#Get number of test cases used\n",
    "no_of_test_cases, cols = new_array.shape\n",
    "for i in range(no_of_test_cases):\n",
    " print(\"Status of Student with 10TH CGPA = {}, 12TH CGPA = {}, Grad_CGPA = {} will be ----- {}\".format(new_data[i][0],new_data[i][1],new_data[i][6], labels[int(prediction[i])]))"
   ]
  },
  {
   "cell_type": "code",
   "execution_count": null,
   "metadata": {},
   "outputs": [],
   "source": []
  },
  {
   "cell_type": "code",
   "execution_count": null,
   "metadata": {},
   "outputs": [],
   "source": []
  },
  {
   "cell_type": "code",
   "execution_count": null,
   "metadata": {},
   "outputs": [],
   "source": []
  }
 ],
 "metadata": {
  "kernelspec": {
   "display_name": "Python 3",
   "language": "python",
   "name": "python3"
  },
  "language_info": {
   "codemirror_mode": {
    "name": "ipython",
    "version": 3
   },
   "file_extension": ".py",
   "mimetype": "text/x-python",
   "name": "python",
   "nbconvert_exporter": "python",
   "pygments_lexer": "ipython3",
   "version": "3.8.3"
  }
 },
 "nbformat": 4,
 "nbformat_minor": 1
}
